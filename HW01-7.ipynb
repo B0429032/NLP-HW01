{
 "cells": [
  {
   "cell_type": "code",
   "execution_count": null,
   "metadata": {},
   "outputs": [
    {
     "name": "stdout",
     "output_type": "stream",
     "text": [
      "diction\n"
     ]
    },
    {
     "name": "stderr",
     "output_type": "stream",
     "text": [
      "Building prefix dict from C:\\Users\\Kunying\\dict.txt.big.txt ...\n",
      "Loading model from cache C:\\Users\\Kunying\\AppData\\Local\\Temp\\jieba.u868d27caf022779313a1b5475e67d67a.cache\n",
      "Loading model cost 1.562 seconds.\n",
      "Prefix dict has been built successfully.\n"
     ]
    }
   ],
   "source": [
    "import jieba\n",
    "import jieba.analyse\n",
    "import numpy as np\n",
    "from collections import Counter\n",
    "text = open('hw1-dataset.txt', \"r\",encoding=\"utf-8\").read()  #讀文字資料\n",
    "n = 0\n",
    "jieba.set_dictionary('dict.txt.big.txt')\n",
    "with open('dictionary/stopWord_cloudmod.txt', 'r', encoding='utf-8-sig') as f:#設定停用詞\n",
    "    stops = f.read().split('\\n')\n",
    "    \n",
    "print('diction')\n",
    "terms = []  #儲存字詞\n",
    "for t in jieba.cut(text, cut_all=False):  #拆解句子為字詞\n",
    "    if t not in stops:  #不是停用詞\n",
    "        terms.append(t)\n",
    "        n=n+1\n",
    "\n",
    "print('diction')\n",
    "diction = Counter(terms)\n",
    "# 可列印詞的統計數\n",
    "print('diction')\n",
    "print(n)\n",
    "print(t)\n",
    "print(diction)\n"
   ]
  },
  {
   "cell_type": "code",
   "execution_count": null,
   "metadata": {},
   "outputs": [],
   "source": []
  }
 ],
 "metadata": {
  "kernelspec": {
   "display_name": "Python 3",
   "language": "python",
   "name": "python3"
  },
  "language_info": {
   "codemirror_mode": {
    "name": "ipython",
    "version": 3
   },
   "file_extension": ".py",
   "mimetype": "text/x-python",
   "name": "python",
   "nbconvert_exporter": "python",
   "pygments_lexer": "ipython3",
   "version": "3.7.1"
  }
 },
 "nbformat": 4,
 "nbformat_minor": 2
}
